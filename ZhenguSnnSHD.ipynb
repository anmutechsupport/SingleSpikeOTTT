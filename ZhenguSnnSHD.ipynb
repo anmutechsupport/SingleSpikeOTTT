{
 "cells": [
  {
   "cell_type": "code",
   "execution_count": 1,
   "id": "7bfb3f2e",
   "metadata": {},
   "outputs": [
    {
     "name": "stderr",
     "output_type": "stream",
     "text": [
      "D:\\lib\\site-packages\\tqdm\\auto.py:21: TqdmWarning: IProgress not found. Please update jupyter and ipywidgets. See https://ipywidgets.readthedocs.io/en/stable/user_install.html\n",
      "  from .autonotebook import tqdm as notebook_tqdm\n"
     ]
    }
   ],
   "source": [
    "import torch, torch.nn as nn\n",
    "import snntorch as snn\n",
    "from snntorch import functional as SF\n",
    "import tonic\n",
    "\n",
    "\n",
    "from tonic import datasets, transforms\n",
    "\n",
    "dt = 30000\n",
    "\n",
    "# encoding_dim = 100\n",
    "\n",
    "transform = transforms.Compose(\n",
    "            [\n",
    "                # transforms.Downsample(spatial_factor=encoding_dim/700),\n",
    "                transforms.CropTime(max=1e6), # all timestamp units in microseconds in Tonic\n",
    "                transforms.ToFrame(\n",
    "                    sensor_size=tonic.datasets.SHD.sensor_size,\n",
    "                    time_window=dt,\n",
    "                    include_incomplete=True,\n",
    "                ),\n",
    "            ]\n",
    "        )\n",
    "\n",
    "trainset=datasets.SHD('data', transform=transform)\n",
    "testset=datasets.SHD('data', transform=transform, train=False)"
   ]
  },
  {
   "cell_type": "code",
   "execution_count": 2,
   "id": "9fb81ce1",
   "metadata": {},
   "outputs": [
    {
     "name": "stderr",
     "output_type": "stream",
     "text": [
      "'rm' 不是内部或外部命令，也不是可运行的程序\n",
      "或批处理文件。\n"
     ]
    }
   ],
   "source": [
    "!rm -r cache\n",
    "from tonic import DiskCachedDataset\n",
    "from torch.utils.data import DataLoader\n",
    "\n",
    "batch_size = 100\n",
    "shd_trainset = DiskCachedDataset(trainset, cache_path='./cache/shd/train')\n",
    "shd_testset = DiskCachedDataset(testset, cache_path='./cache/shd/test')\n",
    "train_loader = DataLoader(shd_trainset, batch_size=batch_size, collate_fn=tonic.collation.PadTensors(batch_first=False), shuffle=False, drop_last=True)\n",
    "test_loader = DataLoader(shd_testset, batch_size=batch_size, collate_fn=tonic.collation.PadTensors(batch_first=False), shuffle=False, drop_last=True)"
   ]
  },
  {
   "cell_type": "code",
   "execution_count": 3,
   "id": "7a448090",
   "metadata": {},
   "outputs": [
    {
     "name": "stdout",
     "output_type": "stream",
     "text": [
      "torch.Size([28, 100, 1, 700])\n",
      "tensor([11, 13,  5, 10,  1, 13,  4, 14,  6,  0, 11, 17,  5,  9, 12, 12,  5,  0,\n",
      "        14,  5,  9,  5, 15, 15, 19, 12,  0, 14, 19,  9,  1, 11, 12, 16,  0, 16,\n",
      "        11, 15, 13, 12,  2, 14,  6, 17,  9,  3,  4,  4,  3, 11, 15,  1,  3, 12,\n",
      "         1,  5,  9,  1,  6, 11, 19,  1,  7,  6, 14,  1,  0,  6, 10, 17, 11,  1,\n",
      "        13,  8, 13,  2, 19,  6, 19,  9,  8,  2, 18,  7,  4,  7,  2,  3, 13,  9,\n",
      "        14, 18,  2,  1, 14,  0, 19,  9, 15,  6], dtype=torch.int32)\n"
     ]
    }
   ],
   "source": [
    "for data, labels in iter(train_loader):\n",
    "    print(data.size())\n",
    "    print(labels)\n",
    "    break"
   ]
  },
  {
   "cell_type": "code",
   "execution_count": 4,
   "id": "38307d83",
   "metadata": {},
   "outputs": [],
   "source": [
    "# Training Parameters\n",
    "num_classes = 20  # MNIST has 10 output classes\n",
    "device = \"cuda\"\n",
    "\n",
    "# Torch Variables\n",
    "dtype = torch.float\n",
    "\n",
    "# # Torch Variables\n",
    "# dtype = torch.float\n",
    "\n",
    "# from torchvision import datasets, transforms\n",
    "\n",
    "# # Define a transform\n",
    "# transform = transforms.Compose([\n",
    "#             transforms.Resize((28,28)),\n",
    "#             transforms.Grayscale(),\n",
    "#             transforms.ToTensor(),\n",
    "#             transforms.Normalize((0,), (1,))\n",
    "# ])\n",
    "\n",
    "# mnist_train = datasets.MNIST(data_path, train=True, download=True, transform=transform)\n",
    "# mnist_test = datasets.MNIST(data_path, train=False, download=True, transform=transform)\n",
    "\n",
    "# from torch.utils.data import DataLoader\n",
    "\n",
    "# train_loader = DataLoader(mnist_train, batch_size=batch_size, shuffle=False, drop_last=True)\n",
    "# test_loader = DataLoader(mnist_test, batch_size=batch_size, shuffle=False, drop_last=True)"
   ]
  },
  {
   "cell_type": "code",
   "execution_count": 5,
   "id": "310fd686",
   "metadata": {},
   "outputs": [
    {
     "ename": "NameError",
     "evalue": "name 'spk_rec' is not defined",
     "output_type": "error",
     "traceback": [
      "\u001b[1;31m---------------------------------------------------------------------------\u001b[0m",
      "\u001b[1;31mNameError\u001b[0m                                 Traceback (most recent call last)",
      "Cell \u001b[1;32mIn[5], line 24\u001b[0m\n\u001b[0;32m     22\u001b[0m     mask \u001b[38;5;241m=\u001b[39m mask\u001b[38;5;241m.\u001b[39mswapaxes(\u001b[38;5;241m0\u001b[39m, \u001b[38;5;241m1\u001b[39m)\n\u001b[0;32m     23\u001b[0m     \u001b[38;5;28;01mreturn\u001b[39;00m torch\u001b[38;5;241m.\u001b[39msum(mask[:, \u001b[38;5;28;01mNone\u001b[39;00m, :] \u001b[38;5;241m*\u001b[39m b, \u001b[38;5;241m0\u001b[39m)\n\u001b[1;32m---> 24\u001b[0m bin2dec(\u001b[43mspk_rec\u001b[49m, num_steps)\n\u001b[0;32m     25\u001b[0m \u001b[38;5;66;03m# binary(torch.tensor(200), 8)\u001b[39;00m\n",
      "\u001b[1;31mNameError\u001b[0m: name 'spk_rec' is not defined"
     ]
    }
   ],
   "source": [
    "num_steps = 34\n",
    "bits = num_steps\n",
    "# Iterate through minibatches\n",
    "data = iter(train_loader)\n",
    "data_it, targets_it = next(data)\n",
    "\n",
    "# Spiking Data\n",
    "#spike_data = binary(data_it.byte(), num_steps)\n"
   ]
  },
  {
   "cell_type": "code",
   "execution_count": 23,
   "id": "fdf74ae0",
   "metadata": {},
   "outputs": [],
   "source": [
    "# Network Architecture\n",
    "num_inputs = 700\n",
    "num_hidden = 300\n",
    "num_outputs = 20\n",
    "\n",
    "# Temporal Dynamics\n",
    "beta = 1\n",
    "\n",
    "# spike_grad = surrogate.fast_sigmoid()\n",
    "spike_grad = None\n",
    "\n",
    "# Define Network\n",
    "class Net(nn.Module):\n",
    "    def __init__(self, singleSpk=False):\n",
    "        super().__init__()\n",
    "        self.singleSpk = singleSpk\n",
    "        if singleSpk:\n",
    "            reset = \"none\"\n",
    "        else:\n",
    "            reset = \"subtract\"\n",
    "        # Initialize layers\n",
    "        self.fc1 = nn.Linear(num_inputs, num_hidden)\n",
    "        self.lif1 = snn.Leaky(beta=beta, learn_beta=0, spike_grad=spike_grad, reset_mechanism=\"subtract\")\n",
    "        self.fc2 = nn.Linear(num_hidden, num_outputs)\n",
    "        self.lif2 = snn.Leaky(beta=beta, learn_beta=0, spike_grad=spike_grad, reset_mechanism=reset)\n",
    "\n",
    "            \n",
    "        self.hasFired1 = torch.zeros(batch_size, num_hidden).to(device)\n",
    "        self.hasFired2 = torch.zeros(batch_size, num_outputs).to(device)\n",
    "\n",
    "    def forward(self, x):\n",
    "\n",
    "        # Initialize hidden states at t=0\n",
    "        mem1 = self.lif1.init_leaky()\n",
    "        mem2 = self.lif2.init_leaky()\n",
    "        # Record the final layer\n",
    "        spk2_rec = []\n",
    "        mem2_rec = []\n",
    "        \n",
    "        self.hasFired1 = torch.zeros_like(self.hasFired1)\n",
    "        self.hasFired2 = torch.zeros_like(self.hasFired2)\n",
    "\n",
    "        for step in range(x.shape[0]):\n",
    "            cur1 = self.fc1(x[step].flatten(1))\n",
    "            spk1, mem1 = self.lif1(cur1, mem1)\n",
    "            \n",
    "            if self.singleSpk:\n",
    "                spk1 *= (1 - self.hasFired1)\n",
    "                self.hasFired1 = torch.max(self.hasFired1, spk1)\n",
    "            \n",
    "            cur2 = self.fc2(spk1)\n",
    "            spk2, mem2 = self.lif2(cur2, mem2)\n",
    "            \n",
    "            if self.singleSpk:\n",
    "                spk2 *= (1 - self.hasFired2)\n",
    "                self.hasFired2 = torch.max(self.hasFired2, spk2)\n",
    "\n",
    "            spk2_rec.append(spk2)\n",
    "            mem2_rec.append(mem2)\n",
    "#             print(cur1.shape, mem1.shape, cur2.shape, mem2.shape)\n",
    "\n",
    "        return torch.stack(spk2_rec, dim=0), torch.stack(mem2_rec, dim=0)"
   ]
  },
  {
   "cell_type": "code",
   "execution_count": 24,
   "id": "426807cc",
   "metadata": {},
   "outputs": [],
   "source": [
    "# pass data into the network, sum the spikes over time\n",
    "# and compare the neuron with the highest number of spikes\n",
    "# with the target\n",
    "import numpy as np\n",
    "\n",
    "torch.manual_seed(7)\n",
    "# Load the network onto CUDA if available\n",
    "net = Net(singleSpk=True).to(device)\n",
    "\n",
    "def print_batch_accuracy(data, targets, train=False):\n",
    "    output, mem = net(data)\n",
    "#     _, idx = output.sum(dim=0).max(1)\n",
    "#     _, idx = bin2dec(output, bits).max(1)\n",
    "    temp = bin2dec(output, bits, net.phase2)\n",
    "    memF = mem[-1].clone()\n",
    "    memF[temp!=temp.max(1)[0][:, None]] = float('-inf')\n",
    "    idx = memF.max(-1)[1]\n",
    "#     _, idx = mem[-1].max(1)\n",
    "    acc = np.mean((targets == idx).detach().cpu().numpy())\n",
    "\n",
    "    if train:\n",
    "        print(f\"Train set accuracy for a single minibatch: {acc*100:.2f}%\")\n",
    "    else:\n",
    "        print(f\"Test set accuracy for a single minibatch: {acc*100:.2f}%\")\n",
    "\n",
    "def train_printer():\n",
    "    print(f\"Epoch {epoch}, Iteration {iter_counter}\")\n",
    "    print(f\"Train Set Loss: {loss_hist[counter]:.2f}\")\n",
    "    print(f\"Test Set Loss: {test_loss_hist[counter]:.2f}\")\n",
    "    print_batch_accuracy(data, targets, train=True)\n",
    "    print_batch_accuracy(test_data, test_targets, train=False)\n",
    "    print(\"\\n\")\n",
    "    \n",
    "loss = nn.CrossEntropyLoss()\n",
    "optimizer = torch.optim.Adam(net.parameters(), lr=37e-5, betas=(0.9, 0.999))\n",
    "#optimizer = torch.optim.SGD(net.parameters(), lr=.1, momentum=0.9)\n",
    "# data, targets = next(iter(train_loader))\n",
    "# data = data.to(device)\n",
    "# targets = targets.to(device)\n",
    "# spk_rec, mem_rec = net(data.view(batch_size, -1))\n",
    "\n",
    "scheduler = torch.optim.lr_scheduler.StepLR(optimizer, step_size=15, gamma=.5)"
   ]
  },
  {
   "cell_type": "code",
   "execution_count": 25,
   "id": "c5b19515",
   "metadata": {
    "scrolled": false
   },
   "outputs": [
    {
     "name": "stdout",
     "output_type": "stream",
     "text": [
      "Total correctly classified test set images: 651/2200\n",
      "Test Set Accuracy: 29.59%\n",
      "\n",
      "Total correctly classified test set images: 1015/2200\n",
      "Test Set Accuracy: 46.14%\n",
      "\n",
      "Total correctly classified test set images: 1133/2200\n",
      "Test Set Accuracy: 51.50%\n",
      "\n",
      "Total correctly classified test set images: 1232/2200\n",
      "Test Set Accuracy: 56.00%\n",
      "\n",
      "Total correctly classified test set images: 1320/2200\n",
      "Test Set Accuracy: 60.00%\n",
      "\n",
      "Total correctly classified test set images: 1385/2200\n",
      "Test Set Accuracy: 62.95%\n",
      "\n",
      "Total correctly classified test set images: 1409/2200\n",
      "Test Set Accuracy: 64.05%\n",
      "\n",
      "Total correctly classified test set images: 1365/2200\n",
      "Test Set Accuracy: 62.05%\n",
      "\n",
      "Total correctly classified test set images: 1477/2200\n",
      "Test Set Accuracy: 67.14%\n",
      "\n",
      "Total correctly classified test set images: 1455/2200\n",
      "Test Set Accuracy: 66.14%\n",
      "\n",
      "Total correctly classified test set images: 1499/2200\n",
      "Test Set Accuracy: 68.14%\n",
      "\n"
     ]
    },
    {
     "ename": "KeyboardInterrupt",
     "evalue": "",
     "output_type": "error",
     "traceback": [
      "\u001b[1;31m---------------------------------------------------------------------------\u001b[0m",
      "\u001b[1;31mKeyboardInterrupt\u001b[0m                         Traceback (most recent call last)",
      "Cell \u001b[1;32mIn[25], line 13\u001b[0m\n\u001b[0;32m     10\u001b[0m train_batch \u001b[38;5;241m=\u001b[39m \u001b[38;5;28miter\u001b[39m(train_loader)\n\u001b[0;32m     12\u001b[0m \u001b[38;5;66;03m# Minibatch training loop\u001b[39;00m\n\u001b[1;32m---> 13\u001b[0m \u001b[38;5;28;01mfor\u001b[39;00m data, targets \u001b[38;5;129;01min\u001b[39;00m train_batch:\n\u001b[0;32m     14\u001b[0m     data \u001b[38;5;241m=\u001b[39m data\u001b[38;5;241m.\u001b[39mto(device)\n\u001b[0;32m     15\u001b[0m     targets \u001b[38;5;241m=\u001b[39m targets\u001b[38;5;241m.\u001b[39mto(device)\u001b[38;5;241m.\u001b[39mlong()\n",
      "File \u001b[1;32mD:\\lib\\site-packages\\torch\\utils\\data\\dataloader.py:633\u001b[0m, in \u001b[0;36m_BaseDataLoaderIter.__next__\u001b[1;34m(self)\u001b[0m\n\u001b[0;32m    630\u001b[0m \u001b[38;5;28;01mif\u001b[39;00m \u001b[38;5;28mself\u001b[39m\u001b[38;5;241m.\u001b[39m_sampler_iter \u001b[38;5;129;01mis\u001b[39;00m \u001b[38;5;28;01mNone\u001b[39;00m:\n\u001b[0;32m    631\u001b[0m     \u001b[38;5;66;03m# TODO(https://github.com/pytorch/pytorch/issues/76750)\u001b[39;00m\n\u001b[0;32m    632\u001b[0m     \u001b[38;5;28mself\u001b[39m\u001b[38;5;241m.\u001b[39m_reset()  \u001b[38;5;66;03m# type: ignore[call-arg]\u001b[39;00m\n\u001b[1;32m--> 633\u001b[0m data \u001b[38;5;241m=\u001b[39m \u001b[38;5;28;43mself\u001b[39;49m\u001b[38;5;241;43m.\u001b[39;49m\u001b[43m_next_data\u001b[49m\u001b[43m(\u001b[49m\u001b[43m)\u001b[49m\n\u001b[0;32m    634\u001b[0m \u001b[38;5;28mself\u001b[39m\u001b[38;5;241m.\u001b[39m_num_yielded \u001b[38;5;241m+\u001b[39m\u001b[38;5;241m=\u001b[39m \u001b[38;5;241m1\u001b[39m\n\u001b[0;32m    635\u001b[0m \u001b[38;5;28;01mif\u001b[39;00m \u001b[38;5;28mself\u001b[39m\u001b[38;5;241m.\u001b[39m_dataset_kind \u001b[38;5;241m==\u001b[39m _DatasetKind\u001b[38;5;241m.\u001b[39mIterable \u001b[38;5;129;01mand\u001b[39;00m \\\n\u001b[0;32m    636\u001b[0m         \u001b[38;5;28mself\u001b[39m\u001b[38;5;241m.\u001b[39m_IterableDataset_len_called \u001b[38;5;129;01mis\u001b[39;00m \u001b[38;5;129;01mnot\u001b[39;00m \u001b[38;5;28;01mNone\u001b[39;00m \u001b[38;5;129;01mand\u001b[39;00m \\\n\u001b[0;32m    637\u001b[0m         \u001b[38;5;28mself\u001b[39m\u001b[38;5;241m.\u001b[39m_num_yielded \u001b[38;5;241m>\u001b[39m \u001b[38;5;28mself\u001b[39m\u001b[38;5;241m.\u001b[39m_IterableDataset_len_called:\n",
      "File \u001b[1;32mD:\\lib\\site-packages\\torch\\utils\\data\\dataloader.py:677\u001b[0m, in \u001b[0;36m_SingleProcessDataLoaderIter._next_data\u001b[1;34m(self)\u001b[0m\n\u001b[0;32m    675\u001b[0m \u001b[38;5;28;01mdef\u001b[39;00m \u001b[38;5;21m_next_data\u001b[39m(\u001b[38;5;28mself\u001b[39m):\n\u001b[0;32m    676\u001b[0m     index \u001b[38;5;241m=\u001b[39m \u001b[38;5;28mself\u001b[39m\u001b[38;5;241m.\u001b[39m_next_index()  \u001b[38;5;66;03m# may raise StopIteration\u001b[39;00m\n\u001b[1;32m--> 677\u001b[0m     data \u001b[38;5;241m=\u001b[39m \u001b[38;5;28;43mself\u001b[39;49m\u001b[38;5;241;43m.\u001b[39;49m\u001b[43m_dataset_fetcher\u001b[49m\u001b[38;5;241;43m.\u001b[39;49m\u001b[43mfetch\u001b[49m\u001b[43m(\u001b[49m\u001b[43mindex\u001b[49m\u001b[43m)\u001b[49m  \u001b[38;5;66;03m# may raise StopIteration\u001b[39;00m\n\u001b[0;32m    678\u001b[0m     \u001b[38;5;28;01mif\u001b[39;00m \u001b[38;5;28mself\u001b[39m\u001b[38;5;241m.\u001b[39m_pin_memory:\n\u001b[0;32m    679\u001b[0m         data \u001b[38;5;241m=\u001b[39m _utils\u001b[38;5;241m.\u001b[39mpin_memory\u001b[38;5;241m.\u001b[39mpin_memory(data, \u001b[38;5;28mself\u001b[39m\u001b[38;5;241m.\u001b[39m_pin_memory_device)\n",
      "File \u001b[1;32mD:\\lib\\site-packages\\torch\\utils\\data\\_utils\\fetch.py:51\u001b[0m, in \u001b[0;36m_MapDatasetFetcher.fetch\u001b[1;34m(self, possibly_batched_index)\u001b[0m\n\u001b[0;32m     49\u001b[0m         data \u001b[38;5;241m=\u001b[39m \u001b[38;5;28mself\u001b[39m\u001b[38;5;241m.\u001b[39mdataset\u001b[38;5;241m.\u001b[39m__getitems__(possibly_batched_index)\n\u001b[0;32m     50\u001b[0m     \u001b[38;5;28;01melse\u001b[39;00m:\n\u001b[1;32m---> 51\u001b[0m         data \u001b[38;5;241m=\u001b[39m [\u001b[38;5;28mself\u001b[39m\u001b[38;5;241m.\u001b[39mdataset[idx] \u001b[38;5;28;01mfor\u001b[39;00m idx \u001b[38;5;129;01min\u001b[39;00m possibly_batched_index]\n\u001b[0;32m     52\u001b[0m \u001b[38;5;28;01melse\u001b[39;00m:\n\u001b[0;32m     53\u001b[0m     data \u001b[38;5;241m=\u001b[39m \u001b[38;5;28mself\u001b[39m\u001b[38;5;241m.\u001b[39mdataset[possibly_batched_index]\n",
      "File \u001b[1;32mD:\\lib\\site-packages\\torch\\utils\\data\\_utils\\fetch.py:51\u001b[0m, in \u001b[0;36m<listcomp>\u001b[1;34m(.0)\u001b[0m\n\u001b[0;32m     49\u001b[0m         data \u001b[38;5;241m=\u001b[39m \u001b[38;5;28mself\u001b[39m\u001b[38;5;241m.\u001b[39mdataset\u001b[38;5;241m.\u001b[39m__getitems__(possibly_batched_index)\n\u001b[0;32m     50\u001b[0m     \u001b[38;5;28;01melse\u001b[39;00m:\n\u001b[1;32m---> 51\u001b[0m         data \u001b[38;5;241m=\u001b[39m [\u001b[38;5;28;43mself\u001b[39;49m\u001b[38;5;241;43m.\u001b[39;49m\u001b[43mdataset\u001b[49m\u001b[43m[\u001b[49m\u001b[43midx\u001b[49m\u001b[43m]\u001b[49m \u001b[38;5;28;01mfor\u001b[39;00m idx \u001b[38;5;129;01min\u001b[39;00m possibly_batched_index]\n\u001b[0;32m     52\u001b[0m \u001b[38;5;28;01melse\u001b[39;00m:\n\u001b[0;32m     53\u001b[0m     data \u001b[38;5;241m=\u001b[39m \u001b[38;5;28mself\u001b[39m\u001b[38;5;241m.\u001b[39mdataset[possibly_batched_index]\n",
      "File \u001b[1;32mD:\\lib\\site-packages\\tonic\\cached_dataset.py:137\u001b[0m, in \u001b[0;36mDiskCachedDataset.__getitem__\u001b[1;34m(self, item)\u001b[0m\n\u001b[0;32m    135\u001b[0m file_path \u001b[38;5;241m=\u001b[39m os\u001b[38;5;241m.\u001b[39mpath\u001b[38;5;241m.\u001b[39mjoin(\u001b[38;5;28mself\u001b[39m\u001b[38;5;241m.\u001b[39mcache_path, \u001b[38;5;124mf\u001b[39m\u001b[38;5;124m\"\u001b[39m\u001b[38;5;132;01m{\u001b[39;00mitem\u001b[38;5;132;01m}\u001b[39;00m\u001b[38;5;124m_\u001b[39m\u001b[38;5;132;01m{\u001b[39;00mcopy\u001b[38;5;132;01m}\u001b[39;00m\u001b[38;5;124m.hdf5\u001b[39m\u001b[38;5;124m\"\u001b[39m)\n\u001b[0;32m    136\u001b[0m \u001b[38;5;28;01mtry\u001b[39;00m:\n\u001b[1;32m--> 137\u001b[0m     data, targets \u001b[38;5;241m=\u001b[39m \u001b[43mload_from_disk_cache\u001b[49m\u001b[43m(\u001b[49m\u001b[43mfile_path\u001b[49m\u001b[43m)\u001b[49m\n\u001b[0;32m    138\u001b[0m \u001b[38;5;28;01mexcept\u001b[39;00m (\u001b[38;5;167;01mFileNotFoundError\u001b[39;00m, \u001b[38;5;167;01mOSError\u001b[39;00m) \u001b[38;5;28;01mas\u001b[39;00m _:\n\u001b[0;32m    139\u001b[0m     logging\u001b[38;5;241m.\u001b[39minfo(\n\u001b[0;32m    140\u001b[0m         \u001b[38;5;124mf\u001b[39m\u001b[38;5;124m\"\u001b[39m\u001b[38;5;124mData \u001b[39m\u001b[38;5;132;01m{\u001b[39;00mitem\u001b[38;5;132;01m}\u001b[39;00m\u001b[38;5;124m: \u001b[39m\u001b[38;5;132;01m{\u001b[39;00mfile_path\u001b[38;5;132;01m}\u001b[39;00m\u001b[38;5;124m not in cache, generating it now\u001b[39m\u001b[38;5;124m\"\u001b[39m,\n\u001b[0;32m    141\u001b[0m         stacklevel\u001b[38;5;241m=\u001b[39m\u001b[38;5;241m2\u001b[39m,\n\u001b[0;32m    142\u001b[0m     )\n",
      "File \u001b[1;32mD:\\lib\\site-packages\\tonic\\cached_dataset.py:215\u001b[0m, in \u001b[0;36mload_from_disk_cache\u001b[1;34m(file_path)\u001b[0m\n\u001b[0;32m    213\u001b[0m \u001b[38;5;28;01mfor\u001b[39;00m name, _list \u001b[38;5;129;01min\u001b[39;00m \u001b[38;5;28mzip\u001b[39m([\u001b[38;5;124m\"\u001b[39m\u001b[38;5;124mdata\u001b[39m\u001b[38;5;124m\"\u001b[39m, \u001b[38;5;124m\"\u001b[39m\u001b[38;5;124mtarget\u001b[39m\u001b[38;5;124m\"\u001b[39m], [data_list, target_list]):\n\u001b[0;32m    214\u001b[0m     \u001b[38;5;28;01mfor\u001b[39;00m index \u001b[38;5;129;01min\u001b[39;00m f[name]\u001b[38;5;241m.\u001b[39mkeys():\n\u001b[1;32m--> 215\u001b[0m         \u001b[38;5;28;01mif\u001b[39;00m \u001b[38;5;28;43mhasattr\u001b[39;49m\u001b[43m(\u001b[49m\u001b[43mf\u001b[49m\u001b[43m[\u001b[49m\u001b[38;5;124;43mf\u001b[39;49m\u001b[38;5;124;43m\"\u001b[39;49m\u001b[38;5;132;43;01m{\u001b[39;49;00m\u001b[43mname\u001b[49m\u001b[38;5;132;43;01m}\u001b[39;49;00m\u001b[38;5;124;43m/\u001b[39;49m\u001b[38;5;132;43;01m{\u001b[39;49;00m\u001b[43mindex\u001b[49m\u001b[38;5;132;43;01m}\u001b[39;49;00m\u001b[38;5;124;43m\"\u001b[39;49m\u001b[43m]\u001b[49m\u001b[43m,\u001b[49m\u001b[43m \u001b[49m\u001b[38;5;124;43m\"\u001b[39;49m\u001b[38;5;124;43mkeys\u001b[39;49m\u001b[38;5;124;43m\"\u001b[39;49m\u001b[43m)\u001b[49m:\n\u001b[0;32m    216\u001b[0m             data \u001b[38;5;241m=\u001b[39m {\n\u001b[0;32m    217\u001b[0m                 key: f[\u001b[38;5;124mf\u001b[39m\u001b[38;5;124m\"\u001b[39m\u001b[38;5;132;01m{\u001b[39;00mname\u001b[38;5;132;01m}\u001b[39;00m\u001b[38;5;124m/\u001b[39m\u001b[38;5;132;01m{\u001b[39;00mindex\u001b[38;5;132;01m}\u001b[39;00m\u001b[38;5;124m/\u001b[39m\u001b[38;5;132;01m{\u001b[39;00mkey\u001b[38;5;132;01m}\u001b[39;00m\u001b[38;5;124m\"\u001b[39m][()]\n\u001b[0;32m    218\u001b[0m                 \u001b[38;5;28;01mfor\u001b[39;00m key \u001b[38;5;129;01min\u001b[39;00m f[\u001b[38;5;124mf\u001b[39m\u001b[38;5;124m\"\u001b[39m\u001b[38;5;132;01m{\u001b[39;00mname\u001b[38;5;132;01m}\u001b[39;00m\u001b[38;5;124m/\u001b[39m\u001b[38;5;132;01m{\u001b[39;00mindex\u001b[38;5;132;01m}\u001b[39;00m\u001b[38;5;124m\"\u001b[39m]\u001b[38;5;241m.\u001b[39mkeys()\n\u001b[0;32m    219\u001b[0m             }\n\u001b[0;32m    220\u001b[0m         \u001b[38;5;28;01melse\u001b[39;00m:\n",
      "\u001b[1;31mKeyboardInterrupt\u001b[0m: "
     ]
    }
   ],
   "source": [
    "torch.manual_seed(7)\n",
    "num_epochs = 200\n",
    "loss_hist = []\n",
    "test_loss_hist = []\n",
    "counter = 0\n",
    "\n",
    "# Outer training loop\n",
    "for epoch in range(num_epochs):\n",
    "    iter_counter = 0\n",
    "    train_batch = iter(train_loader)\n",
    "\n",
    "    # Minibatch training loop\n",
    "    for data, targets in train_batch:\n",
    "        data = data.to(device)\n",
    "        targets = targets.to(device).long()\n",
    "\n",
    "        # forward pass\n",
    "        net.train()\n",
    "#         spk_rec, mem_rec = net(data.view(batch_size, -1))\n",
    "        spk_rec, mem_rec = net(data)\n",
    "\n",
    "        # initialize the loss & sum over time\n",
    "        loss_val = torch.zeros((1), dtype=dtype, device=device)\n",
    "#         for step in range(num_steps):\n",
    "#             loss_val += loss(mem_rec[step], targets)\n",
    "        loss_val += loss(mem_rec[-1], targets)\n",
    "  #      loss_val += loss(bin2dec(spk_rec, bits, net.phase2), targets)\n",
    "        # Gradient calculation + weight update\n",
    "        optimizer.zero_grad()\n",
    "        loss_val.backward()\n",
    "        optimizer.step()\n",
    "        \n",
    "\n",
    "        # Store loss history for future plotting\n",
    "        loss_hist.append(loss_val.item())\n",
    "\n",
    "    scheduler.step()\n",
    "    \n",
    "    with torch.no_grad():\n",
    "        net.eval()\n",
    "        total = 0\n",
    "        correct = 0\n",
    "        for data, targets in test_loader:\n",
    "            data = data.to(device)\n",
    "            targets = targets.to(device)\n",
    "\n",
    "            # forward pass\n",
    "            test_spk, mem = net(data)\n",
    "\n",
    "            # calculate total accuracy\n",
    "#             _, predicted = test_spk.sum(dim=0).max(1)\n",
    "            temp = test_spk.sum(0)\n",
    "   #         temp = bin2dec(test_spk, bits, net.phase2)\n",
    "            memF = mem[-1].clone()\n",
    "            memF[temp!=temp.max(1)[0][:, None]] = float('-inf')\n",
    "            predicted = memF.max(-1)[1]\n",
    "#             _, predicted = bin2dec(test_spk, bits, net.phase2).max(1)\n",
    "#             _, predicted = mem[-1].max(1)\n",
    "            total += targets.size(0)\n",
    "            correct += (predicted == targets).sum().item()\n",
    "        print(f\"Total correctly classified test set images: {correct}/{total}\")\n",
    "        print(f\"Test Set Accuracy: {100 * correct / total:.2f}%\\n\")\n",
    "        with open(\"shd1.txt\", \"a\") as f:\n",
    "            f.write(f\"{epoch}: {100 * correct / total:.2f}%\\n\")"
   ]
  },
  {
   "cell_type": "code",
   "execution_count": 18,
   "id": "937017c3",
   "metadata": {
    "scrolled": false
   },
   "outputs": [
    {
     "ename": "NameError",
     "evalue": "name 'spk1' is not defined",
     "output_type": "error",
     "traceback": [
      "\u001b[0;31m---------------------------------------------------------------------------\u001b[0m",
      "\u001b[0;31mNameError\u001b[0m                                 Traceback (most recent call last)",
      "Cell \u001b[0;32mIn[18], line 1\u001b[0m\n\u001b[0;32m----> 1\u001b[0m \u001b[43mspk1\u001b[49m\u001b[38;5;241m.\u001b[39mshape\n",
      "\u001b[0;31mNameError\u001b[0m: name 'spk1' is not defined"
     ]
    }
   ],
   "source": [
    "spk1.shape"
   ]
  },
  {
   "cell_type": "code",
   "execution_count": 14,
   "id": "cf18d5a7",
   "metadata": {},
   "outputs": [
    {
     "data": {
      "text/plain": [
       "torch.Size([25, 64, 20])"
      ]
     },
     "execution_count": 14,
     "metadata": {},
     "output_type": "execute_result"
    }
   ],
   "source": [
    "test_spk.shape"
   ]
  },
  {
   "cell_type": "code",
   "execution_count": null,
   "id": "798bf79f",
   "metadata": {},
   "outputs": [],
   "source": []
  }
 ],
 "metadata": {
  "kernelspec": {
   "display_name": "Python 3 (ipykernel)",
   "language": "python",
   "name": "python3"
  },
  "language_info": {
   "codemirror_mode": {
    "name": "ipython",
    "version": 3
   },
   "file_extension": ".py",
   "mimetype": "text/x-python",
   "name": "python",
   "nbconvert_exporter": "python",
   "pygments_lexer": "ipython3",
   "version": "3.10.11"
  }
 },
 "nbformat": 4,
 "nbformat_minor": 5
}
